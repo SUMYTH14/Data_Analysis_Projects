{
 "cells": [
  {
   "cell_type": "code",
   "execution_count": 1,
   "id": "b985454f-939a-46aa-8010-664481b75e1e",
   "metadata": {},
   "outputs": [],
   "source": [
    "import numpy as np\n",
    "import pandas as pd\n",
    "import matplotlib.pyplot as plt\n",
    "%matplotlib inline\n",
    "import seaborn as sns"
   ]
  },
  {
   "cell_type": "code",
   "execution_count": 2,
   "id": "3e961081-32da-4f08-8f2f-afcfccd8612c",
   "metadata": {},
   "outputs": [],
   "source": [
    "df = pd.read_csv(r'C:\\Users\\SUMYTH\\Desktop\\Libraries\\Diwali Sales Data.csv',encoding = 'unicode_escape')"
   ]
  },
  {
   "cell_type": "code",
   "execution_count": 3,
   "id": "d9b03232-2ccb-4178-bc79-0cfc1da4e151",
   "metadata": {},
   "outputs": [
    {
     "data": {
      "text/plain": [
       "(11251, 15)"
      ]
     },
     "execution_count": 3,
     "metadata": {},
     "output_type": "execute_result"
    }
   ],
   "source": [
    "df.shape"
   ]
  },
  {
   "cell_type": "code",
   "execution_count": 4,
   "id": "e8570ba1-ae76-426c-b18b-1790ba4204d2",
   "metadata": {},
   "outputs": [
    {
     "data": {
      "text/html": [
       "<div>\n",
       "<style scoped>\n",
       "    .dataframe tbody tr th:only-of-type {\n",
       "        vertical-align: middle;\n",
       "    }\n",
       "\n",
       "    .dataframe tbody tr th {\n",
       "        vertical-align: top;\n",
       "    }\n",
       "\n",
       "    .dataframe thead th {\n",
       "        text-align: right;\n",
       "    }\n",
       "</style>\n",
       "<table border=\"1\" class=\"dataframe\">\n",
       "  <thead>\n",
       "    <tr style=\"text-align: right;\">\n",
       "      <th></th>\n",
       "      <th>User_ID</th>\n",
       "      <th>Cust_name</th>\n",
       "      <th>Product_ID</th>\n",
       "      <th>Gender</th>\n",
       "      <th>Age Group</th>\n",
       "      <th>Age</th>\n",
       "      <th>Marital_Status</th>\n",
       "      <th>State</th>\n",
       "      <th>Zone</th>\n",
       "      <th>Occupation</th>\n",
       "      <th>Product_Category</th>\n",
       "      <th>Orders</th>\n",
       "      <th>Amount</th>\n",
       "      <th>Status</th>\n",
       "      <th>unnamed1</th>\n",
       "    </tr>\n",
       "  </thead>\n",
       "  <tbody>\n",
       "    <tr>\n",
       "      <th>0</th>\n",
       "      <td>1002903</td>\n",
       "      <td>Sanskriti</td>\n",
       "      <td>P00125942</td>\n",
       "      <td>F</td>\n",
       "      <td>26-35</td>\n",
       "      <td>28</td>\n",
       "      <td>0</td>\n",
       "      <td>Maharashtra</td>\n",
       "      <td>Western</td>\n",
       "      <td>Healthcare</td>\n",
       "      <td>Auto</td>\n",
       "      <td>1</td>\n",
       "      <td>23952.0</td>\n",
       "      <td>NaN</td>\n",
       "      <td>NaN</td>\n",
       "    </tr>\n",
       "    <tr>\n",
       "      <th>1</th>\n",
       "      <td>1000732</td>\n",
       "      <td>Kartik</td>\n",
       "      <td>P00110942</td>\n",
       "      <td>F</td>\n",
       "      <td>26-35</td>\n",
       "      <td>35</td>\n",
       "      <td>1</td>\n",
       "      <td>Andhra Pradesh</td>\n",
       "      <td>Southern</td>\n",
       "      <td>Govt</td>\n",
       "      <td>Auto</td>\n",
       "      <td>3</td>\n",
       "      <td>23934.0</td>\n",
       "      <td>NaN</td>\n",
       "      <td>NaN</td>\n",
       "    </tr>\n",
       "    <tr>\n",
       "      <th>2</th>\n",
       "      <td>1001990</td>\n",
       "      <td>Bindu</td>\n",
       "      <td>P00118542</td>\n",
       "      <td>F</td>\n",
       "      <td>26-35</td>\n",
       "      <td>35</td>\n",
       "      <td>1</td>\n",
       "      <td>Uttar Pradesh</td>\n",
       "      <td>Central</td>\n",
       "      <td>Automobile</td>\n",
       "      <td>Auto</td>\n",
       "      <td>3</td>\n",
       "      <td>23924.0</td>\n",
       "      <td>NaN</td>\n",
       "      <td>NaN</td>\n",
       "    </tr>\n",
       "    <tr>\n",
       "      <th>3</th>\n",
       "      <td>1001425</td>\n",
       "      <td>Sudevi</td>\n",
       "      <td>P00237842</td>\n",
       "      <td>M</td>\n",
       "      <td>0-17</td>\n",
       "      <td>16</td>\n",
       "      <td>0</td>\n",
       "      <td>Karnataka</td>\n",
       "      <td>Southern</td>\n",
       "      <td>Construction</td>\n",
       "      <td>Auto</td>\n",
       "      <td>2</td>\n",
       "      <td>23912.0</td>\n",
       "      <td>NaN</td>\n",
       "      <td>NaN</td>\n",
       "    </tr>\n",
       "    <tr>\n",
       "      <th>4</th>\n",
       "      <td>1000588</td>\n",
       "      <td>Joni</td>\n",
       "      <td>P00057942</td>\n",
       "      <td>M</td>\n",
       "      <td>26-35</td>\n",
       "      <td>28</td>\n",
       "      <td>1</td>\n",
       "      <td>Gujarat</td>\n",
       "      <td>Western</td>\n",
       "      <td>Food Processing</td>\n",
       "      <td>Auto</td>\n",
       "      <td>2</td>\n",
       "      <td>23877.0</td>\n",
       "      <td>NaN</td>\n",
       "      <td>NaN</td>\n",
       "    </tr>\n",
       "  </tbody>\n",
       "</table>\n",
       "</div>"
      ],
      "text/plain": [
       "   User_ID  Cust_name Product_ID Gender Age Group  Age  Marital_Status  \\\n",
       "0  1002903  Sanskriti  P00125942      F     26-35   28               0   \n",
       "1  1000732     Kartik  P00110942      F     26-35   35               1   \n",
       "2  1001990      Bindu  P00118542      F     26-35   35               1   \n",
       "3  1001425     Sudevi  P00237842      M      0-17   16               0   \n",
       "4  1000588       Joni  P00057942      M     26-35   28               1   \n",
       "\n",
       "            State      Zone       Occupation Product_Category  Orders  \\\n",
       "0     Maharashtra   Western       Healthcare             Auto       1   \n",
       "1  Andhra Pradesh  Southern             Govt             Auto       3   \n",
       "2   Uttar Pradesh   Central       Automobile             Auto       3   \n",
       "3       Karnataka  Southern     Construction             Auto       2   \n",
       "4         Gujarat   Western  Food Processing             Auto       2   \n",
       "\n",
       "    Amount  Status  unnamed1  \n",
       "0  23952.0     NaN       NaN  \n",
       "1  23934.0     NaN       NaN  \n",
       "2  23924.0     NaN       NaN  \n",
       "3  23912.0     NaN       NaN  \n",
       "4  23877.0     NaN       NaN  "
      ]
     },
     "execution_count": 4,
     "metadata": {},
     "output_type": "execute_result"
    }
   ],
   "source": [
    "df.head(5)"
   ]
  },
  {
   "cell_type": "code",
   "execution_count": 5,
   "id": "a1a79524-bf57-4210-9931-9eb9cf8940d7",
   "metadata": {},
   "outputs": [
    {
     "name": "stdout",
     "output_type": "stream",
     "text": [
      "<class 'pandas.core.frame.DataFrame'>\n",
      "RangeIndex: 11251 entries, 0 to 11250\n",
      "Data columns (total 15 columns):\n",
      " #   Column            Non-Null Count  Dtype  \n",
      "---  ------            --------------  -----  \n",
      " 0   User_ID           11251 non-null  int64  \n",
      " 1   Cust_name         11251 non-null  object \n",
      " 2   Product_ID        11251 non-null  object \n",
      " 3   Gender            11251 non-null  object \n",
      " 4   Age Group         11251 non-null  object \n",
      " 5   Age               11251 non-null  int64  \n",
      " 6   Marital_Status    11251 non-null  int64  \n",
      " 7   State             11251 non-null  object \n",
      " 8   Zone              11251 non-null  object \n",
      " 9   Occupation        11251 non-null  object \n",
      " 10  Product_Category  11251 non-null  object \n",
      " 11  Orders            11251 non-null  int64  \n",
      " 12  Amount            11239 non-null  float64\n",
      " 13  Status            0 non-null      float64\n",
      " 14  unnamed1          0 non-null      float64\n",
      "dtypes: float64(3), int64(4), object(8)\n",
      "memory usage: 1.3+ MB\n"
     ]
    }
   ],
   "source": [
    "df.info()"
   ]
  },
  {
   "cell_type": "code",
   "execution_count": 6,
   "id": "7b865485-fa53-4b09-aa38-44b505b0e07d",
   "metadata": {},
   "outputs": [],
   "source": [
    "df.drop(['Status','unnamed1'],axis = 1 , inplace = True)"
   ]
  },
  {
   "cell_type": "code",
   "execution_count": 7,
   "id": "e2ed4c0c-bdad-4992-960b-7a6bbdabed03",
   "metadata": {},
   "outputs": [
    {
     "name": "stdout",
     "output_type": "stream",
     "text": [
      "<class 'pandas.core.frame.DataFrame'>\n",
      "RangeIndex: 11251 entries, 0 to 11250\n",
      "Data columns (total 13 columns):\n",
      " #   Column            Non-Null Count  Dtype  \n",
      "---  ------            --------------  -----  \n",
      " 0   User_ID           11251 non-null  int64  \n",
      " 1   Cust_name         11251 non-null  object \n",
      " 2   Product_ID        11251 non-null  object \n",
      " 3   Gender            11251 non-null  object \n",
      " 4   Age Group         11251 non-null  object \n",
      " 5   Age               11251 non-null  int64  \n",
      " 6   Marital_Status    11251 non-null  int64  \n",
      " 7   State             11251 non-null  object \n",
      " 8   Zone              11251 non-null  object \n",
      " 9   Occupation        11251 non-null  object \n",
      " 10  Product_Category  11251 non-null  object \n",
      " 11  Orders            11251 non-null  int64  \n",
      " 12  Amount            11239 non-null  float64\n",
      "dtypes: float64(1), int64(4), object(8)\n",
      "memory usage: 1.1+ MB\n"
     ]
    }
   ],
   "source": [
    "df.info()"
   ]
  },
  {
   "cell_type": "code",
   "execution_count": 8,
   "id": "0a600b35-6ca0-4299-ac9a-a0d6ac6966bc",
   "metadata": {},
   "outputs": [
    {
     "data": {
      "text/plain": [
       "User_ID              0\n",
       "Cust_name            0\n",
       "Product_ID           0\n",
       "Gender               0\n",
       "Age Group            0\n",
       "Age                  0\n",
       "Marital_Status       0\n",
       "State                0\n",
       "Zone                 0\n",
       "Occupation           0\n",
       "Product_Category     0\n",
       "Orders               0\n",
       "Amount              12\n",
       "dtype: int64"
      ]
     },
     "execution_count": 8,
     "metadata": {},
     "output_type": "execute_result"
    }
   ],
   "source": [
    "pd.isnull(df).sum()"
   ]
  },
  {
   "cell_type": "code",
   "execution_count": 9,
   "id": "f49a7706-4944-4b60-819c-557b1755a120",
   "metadata": {},
   "outputs": [
    {
     "data": {
      "text/plain": [
       "(11251, 13)"
      ]
     },
     "execution_count": 9,
     "metadata": {},
     "output_type": "execute_result"
    }
   ],
   "source": [
    "df.shape"
   ]
  },
  {
   "cell_type": "code",
   "execution_count": 10,
   "id": "68203ba3-f455-4e00-8a0d-8e12635915f0",
   "metadata": {},
   "outputs": [],
   "source": [
    "df.dropna(inplace = True)"
   ]
  },
  {
   "cell_type": "code",
   "execution_count": 11,
   "id": "03f8aaa3-0b79-440d-bed8-1901e1c53e59",
   "metadata": {},
   "outputs": [
    {
     "data": {
      "text/plain": [
       "(11239, 13)"
      ]
     },
     "execution_count": 11,
     "metadata": {},
     "output_type": "execute_result"
    }
   ],
   "source": [
    "df.shape"
   ]
  },
  {
   "cell_type": "code",
   "execution_count": 12,
   "id": "7b44ee87-cd6d-4465-90e2-008bfedcd5a8",
   "metadata": {},
   "outputs": [],
   "source": [
    "df['Amount'] = df['Amount'].astype('int')"
   ]
  },
  {
   "cell_type": "code",
   "execution_count": 13,
   "id": "ecd967bd-9939-4c8b-8460-a5cff2b1d56d",
   "metadata": {},
   "outputs": [
    {
     "data": {
      "text/plain": [
       "dtype('int64')"
      ]
     },
     "execution_count": 13,
     "metadata": {},
     "output_type": "execute_result"
    }
   ],
   "source": [
    "df['Amount'].dtypes"
   ]
  },
  {
   "cell_type": "code",
   "execution_count": 14,
   "id": "9d4f7844-1158-437b-8172-9190c038be4d",
   "metadata": {},
   "outputs": [
    {
     "data": {
      "text/plain": [
       "Index(['User_ID', 'Cust_name', 'Product_ID', 'Gender', 'Age Group', 'Age',\n",
       "       'Marital_Status', 'State', 'Zone', 'Occupation', 'Product_Category',\n",
       "       'Orders', 'Amount'],\n",
       "      dtype='object')"
      ]
     },
     "execution_count": 14,
     "metadata": {},
     "output_type": "execute_result"
    }
   ],
   "source": [
    "df.columns"
   ]
  },
  {
   "cell_type": "code",
   "execution_count": 15,
   "id": "c63da6f1-83ae-43a0-baca-6bde55fc886c",
   "metadata": {},
   "outputs": [
    {
     "data": {
      "text/html": [
       "<div>\n",
       "<style scoped>\n",
       "    .dataframe tbody tr th:only-of-type {\n",
       "        vertical-align: middle;\n",
       "    }\n",
       "\n",
       "    .dataframe tbody tr th {\n",
       "        vertical-align: top;\n",
       "    }\n",
       "\n",
       "    .dataframe thead th {\n",
       "        text-align: right;\n",
       "    }\n",
       "</style>\n",
       "<table border=\"1\" class=\"dataframe\">\n",
       "  <thead>\n",
       "    <tr style=\"text-align: right;\">\n",
       "      <th></th>\n",
       "      <th>User_ID</th>\n",
       "      <th>Age</th>\n",
       "      <th>Marital_Status</th>\n",
       "      <th>Orders</th>\n",
       "      <th>Amount</th>\n",
       "    </tr>\n",
       "  </thead>\n",
       "  <tbody>\n",
       "    <tr>\n",
       "      <th>count</th>\n",
       "      <td>1.123900e+04</td>\n",
       "      <td>11239.000000</td>\n",
       "      <td>11239.000000</td>\n",
       "      <td>11239.000000</td>\n",
       "      <td>11239.000000</td>\n",
       "    </tr>\n",
       "    <tr>\n",
       "      <th>mean</th>\n",
       "      <td>1.003004e+06</td>\n",
       "      <td>35.410357</td>\n",
       "      <td>0.420055</td>\n",
       "      <td>2.489634</td>\n",
       "      <td>9453.610553</td>\n",
       "    </tr>\n",
       "    <tr>\n",
       "      <th>std</th>\n",
       "      <td>1.716039e+03</td>\n",
       "      <td>12.753866</td>\n",
       "      <td>0.493589</td>\n",
       "      <td>1.114967</td>\n",
       "      <td>5222.355168</td>\n",
       "    </tr>\n",
       "    <tr>\n",
       "      <th>min</th>\n",
       "      <td>1.000001e+06</td>\n",
       "      <td>12.000000</td>\n",
       "      <td>0.000000</td>\n",
       "      <td>1.000000</td>\n",
       "      <td>188.000000</td>\n",
       "    </tr>\n",
       "    <tr>\n",
       "      <th>25%</th>\n",
       "      <td>1.001492e+06</td>\n",
       "      <td>27.000000</td>\n",
       "      <td>0.000000</td>\n",
       "      <td>2.000000</td>\n",
       "      <td>5443.000000</td>\n",
       "    </tr>\n",
       "    <tr>\n",
       "      <th>50%</th>\n",
       "      <td>1.003064e+06</td>\n",
       "      <td>33.000000</td>\n",
       "      <td>0.000000</td>\n",
       "      <td>2.000000</td>\n",
       "      <td>8109.000000</td>\n",
       "    </tr>\n",
       "    <tr>\n",
       "      <th>75%</th>\n",
       "      <td>1.004426e+06</td>\n",
       "      <td>43.000000</td>\n",
       "      <td>1.000000</td>\n",
       "      <td>3.000000</td>\n",
       "      <td>12675.000000</td>\n",
       "    </tr>\n",
       "    <tr>\n",
       "      <th>max</th>\n",
       "      <td>1.006040e+06</td>\n",
       "      <td>92.000000</td>\n",
       "      <td>1.000000</td>\n",
       "      <td>4.000000</td>\n",
       "      <td>23952.000000</td>\n",
       "    </tr>\n",
       "  </tbody>\n",
       "</table>\n",
       "</div>"
      ],
      "text/plain": [
       "            User_ID           Age  Marital_Status        Orders        Amount\n",
       "count  1.123900e+04  11239.000000    11239.000000  11239.000000  11239.000000\n",
       "mean   1.003004e+06     35.410357        0.420055      2.489634   9453.610553\n",
       "std    1.716039e+03     12.753866        0.493589      1.114967   5222.355168\n",
       "min    1.000001e+06     12.000000        0.000000      1.000000    188.000000\n",
       "25%    1.001492e+06     27.000000        0.000000      2.000000   5443.000000\n",
       "50%    1.003064e+06     33.000000        0.000000      2.000000   8109.000000\n",
       "75%    1.004426e+06     43.000000        1.000000      3.000000  12675.000000\n",
       "max    1.006040e+06     92.000000        1.000000      4.000000  23952.000000"
      ]
     },
     "execution_count": 15,
     "metadata": {},
     "output_type": "execute_result"
    }
   ],
   "source": [
    "df.describe()"
   ]
  },
  {
   "cell_type": "code",
   "execution_count": 16,
   "id": "95e22108-8979-4aeb-b63b-f083ff4e6a53",
   "metadata": {},
   "outputs": [
    {
     "data": {
      "text/html": [
       "<div>\n",
       "<style scoped>\n",
       "    .dataframe tbody tr th:only-of-type {\n",
       "        vertical-align: middle;\n",
       "    }\n",
       "\n",
       "    .dataframe tbody tr th {\n",
       "        vertical-align: top;\n",
       "    }\n",
       "\n",
       "    .dataframe thead th {\n",
       "        text-align: right;\n",
       "    }\n",
       "</style>\n",
       "<table border=\"1\" class=\"dataframe\">\n",
       "  <thead>\n",
       "    <tr style=\"text-align: right;\">\n",
       "      <th></th>\n",
       "      <th>User_ID</th>\n",
       "      <th>Amount</th>\n",
       "      <th>Orders</th>\n",
       "    </tr>\n",
       "  </thead>\n",
       "  <tbody>\n",
       "    <tr>\n",
       "      <th>count</th>\n",
       "      <td>1.123900e+04</td>\n",
       "      <td>11239.000000</td>\n",
       "      <td>11239.000000</td>\n",
       "    </tr>\n",
       "    <tr>\n",
       "      <th>mean</th>\n",
       "      <td>1.003004e+06</td>\n",
       "      <td>9453.610553</td>\n",
       "      <td>2.489634</td>\n",
       "    </tr>\n",
       "    <tr>\n",
       "      <th>std</th>\n",
       "      <td>1.716039e+03</td>\n",
       "      <td>5222.355168</td>\n",
       "      <td>1.114967</td>\n",
       "    </tr>\n",
       "    <tr>\n",
       "      <th>min</th>\n",
       "      <td>1.000001e+06</td>\n",
       "      <td>188.000000</td>\n",
       "      <td>1.000000</td>\n",
       "    </tr>\n",
       "    <tr>\n",
       "      <th>25%</th>\n",
       "      <td>1.001492e+06</td>\n",
       "      <td>5443.000000</td>\n",
       "      <td>2.000000</td>\n",
       "    </tr>\n",
       "    <tr>\n",
       "      <th>50%</th>\n",
       "      <td>1.003064e+06</td>\n",
       "      <td>8109.000000</td>\n",
       "      <td>2.000000</td>\n",
       "    </tr>\n",
       "    <tr>\n",
       "      <th>75%</th>\n",
       "      <td>1.004426e+06</td>\n",
       "      <td>12675.000000</td>\n",
       "      <td>3.000000</td>\n",
       "    </tr>\n",
       "    <tr>\n",
       "      <th>max</th>\n",
       "      <td>1.006040e+06</td>\n",
       "      <td>23952.000000</td>\n",
       "      <td>4.000000</td>\n",
       "    </tr>\n",
       "  </tbody>\n",
       "</table>\n",
       "</div>"
      ],
      "text/plain": [
       "            User_ID        Amount        Orders\n",
       "count  1.123900e+04  11239.000000  11239.000000\n",
       "mean   1.003004e+06   9453.610553      2.489634\n",
       "std    1.716039e+03   5222.355168      1.114967\n",
       "min    1.000001e+06    188.000000      1.000000\n",
       "25%    1.001492e+06   5443.000000      2.000000\n",
       "50%    1.003064e+06   8109.000000      2.000000\n",
       "75%    1.004426e+06  12675.000000      3.000000\n",
       "max    1.006040e+06  23952.000000      4.000000"
      ]
     },
     "execution_count": 16,
     "metadata": {},
     "output_type": "execute_result"
    }
   ],
   "source": [
    "df[['User_ID','Amount','Orders']].describe()"
   ]
  },
  {
   "cell_type": "markdown",
   "id": "4016685a-d18d-45b0-ae37-5233e8368ffb",
   "metadata": {},
   "source": [
    "***EDA***"
   ]
  },
  {
   "cell_type": "code",
   "execution_count": 17,
   "id": "c9a7aea0-932a-443a-8413-b3cf28baa598",
   "metadata": {},
   "outputs": [
    {
     "data": {
      "image/png": "[encoded data removed]",
      "text/plain": [
       "<Figure size 640x480 with 1 Axes>"
      ]
     },
     "metadata": {},
     "output_type": "display_data"
    }
   ],
   "source": [
    "ax = sns.countplot(x = 'Gender',data = df,orient = 'blue')\n",
    "\n",
    "for bars in ax.containers:\n",
    "    ax.bar_label(bars)"
   ]
  },
  {
   "cell_type": "code",
   "execution_count": 18,
   "id": "86f419d7-6b24-4310-80ca-ff69d36ec0e9",
   "metadata": {},
   "outputs": [],
   "source": [
    " sales_gen = df.groupby(['Gender'],as_index=False)['Amount'].sum().sort_values(by='Amount',)"
   ]
  },
  {
   "cell_type": "code",
   "execution_count": 19,
   "id": "b93e838a-183c-462a-a772-18d21c0790db",
   "metadata": {},
   "outputs": [
    {
     "data": {
      "text/plain": [
       "<Axes: xlabel='Gender', ylabel='Amount'>"
      ]
     },
     "execution_count": 19,
     "metadata": {},
     "output_type": "execute_result"
    },
    {
     "data": {
      "image/png": "[encoded data removed]",
      "text/plain": [
       "<Figure size 640x480 with 1 Axes>"
      ]
     },
     "metadata": {},
     "output_type": "display_data"
    }
   ],
   "source": [
    "sns.barplot(x = 'Gender', y = 'Amount', data = sales_gen)"
   ]
  },
  {
   "cell_type": "markdown",
   "id": "eba13f87-8b88-4c7d-a7cf-3875d88d7200",
   "metadata": {},
   "source": [
    "*#From the above graphs we can see that most of the buyers are females and even the purachasing power of female are greater than men*"
   ]
  },
  {
   "cell_type": "code",
   "execution_count": 20,
   "id": "9135d97e-5904-4c38-a05a-f952693398fa",
   "metadata": {},
   "outputs": [
    {
     "data": {
      "text/plain": [
       "Index(['User_ID', 'Cust_name', 'Product_ID', 'Gender', 'Age Group', 'Age',\n",
       "       'Marital_Status', 'State', 'Zone', 'Occupation', 'Product_Category',\n",
       "       'Orders', 'Amount'],\n",
       "      dtype='object')"
      ]
     },
     "execution_count": 20,
     "metadata": {},
     "output_type": "execute_result"
    }
   ],
   "source": [
    "df.columns"
   ]
  },
  {
   "cell_type": "markdown",
   "id": "d7fc4e70-20a0-46c5-bb1d-ca5ee05f47ae",
   "metadata": {},
   "source": [
    "***AGE***"
   ]
  },
  {
   "cell_type": "code",
   "execution_count": 22,
   "id": "176745bd-51b9-4d4b-8884-c245069c1e36",
   "metadata": {},
   "outputs": [
    {
     "data": {
      "image/png": "[encoded data removed]",
      "text/plain": [
       "<Figure size 640x480 with 1 Axes>"
      ]
     },
     "metadata": {},
     "output_type": "display_data"
    }
   ],
   "source": [
    "ax = sns.countplot(x = 'Age Group',hue = 'Gender',data = df,)\n",
    "for bars in ax.containers:\n",
    "   ax.bar_label(bars)"
   ]
  },
  {
   "cell_type": "code",
   "execution_count": 26,
   "id": "bdbb0680-bd25-4b20-8217-4aa8b9f7e6a0",
   "metadata": {},
   "outputs": [
    {
     "data": {
      "text/plain": [
       "<Axes: xlabel='Age Group', ylabel='Amount'>"
      ]
     },
     "execution_count": 26,
     "metadata": {},
     "output_type": "execute_result"
    },
    {
     "data": {
      "image/png": "[encoded data removed]",
      "text/plain": [
       "<Figure size 640x480 with 1 Axes>"
      ]
     },
     "metadata": {},
     "output_type": "display_data"
    }
   ],
   "source": [
    "sales_age = df.groupby(['Age Group'],as_index = False )['Amount'].sum().sort_values(by='Amount',ascending= False)\n",
    "sns.barplot( x = 'Age Group',y = 'Amount',data = sales_age)"
   ]
  },
  {
   "cell_type": "markdown",
   "id": "15ca9fba-18e1-4b9d-93ac-24e2ef35b6f1",
   "metadata": {},
   "source": [
    "*#From above graph we can conclude that the most buyers belongs to 26-35  female age group*"
   ]
  },
  {
   "cell_type": "code",
   "execution_count": 29,
   "id": "f86b8761-6f95-45e9-bda1-3e4877494a8f",
   "metadata": {},
   "outputs": [
    {
     "data": {
      "text/plain": [
       "Index(['User_ID', 'Cust_name', 'Product_ID', 'Gender', 'Age Group', 'Age',\n",
       "       'Marital_Status', 'State', 'Zone', 'Occupation', 'Product_Category',\n",
       "       'Orders', 'Amount'],\n",
       "      dtype='object')"
      ]
     },
     "execution_count": 29,
     "metadata": {},
     "output_type": "execute_result"
    }
   ],
   "source": [
    "df.columns"
   ]
  },
  {
   "cell_type": "markdown",
   "id": "4e34492e-6bb9-43a7-8c88-6887adceb462",
   "metadata": {},
   "source": [
    "***STATE***"
   ]
  },
  {
   "cell_type": "code",
   "execution_count": 31,
   "id": "7668bcf5-f3df-4381-b85e-7086f8aaf3ed",
   "metadata": {},
   "outputs": [
    {
     "data": {
      "text/plain": [
       "<Axes: xlabel='State', ylabel='Orders'>"
      ]
     },
     "execution_count": 31,
     "metadata": {},
     "output_type": "execute_result"
    },
    {
     "data": {
      "image/png": "[encoded data removed]",
      "text/plain": [
       "<Figure size 1500x500 with 1 Axes>"
      ]
     },
     "metadata": {},
     "output_type": "display_data"
    }
   ],
   "source": [
    "sale_state = df.groupby(['State'],as_index=False)['Orders'].sum().sort_values(by='Orders',ascending = False).head(10)\n",
    "sns.set(rc={'figure.figsize':(15,5)})\n",
    "sns.barplot(x ='State',y= 'Orders' , data = sale_state)"
   ]
  },
  {
   "cell_type": "code",
   "execution_count": 40,
   "id": "887b3119-8393-4163-ac1d-533c3f7ff5cb",
   "metadata": {},
   "outputs": [
    {
     "data": {
      "text/plain": [
       "<Axes: xlabel='State', ylabel='Amount'>"
      ]
     },
     "execution_count": 40,
     "metadata": {},
     "output_type": "execute_result"
    },
    {
     "data": {
      "image/png": "[encoded data removed]",
      "text/plain": [
       "<Figure size 1500x600 with 1 Axes>"
      ]
     },
     "metadata": {},
     "output_type": "display_data"
    }
   ],
   "source": [
    "\n",
    "sales_state = df.groupby(['State'],as_index = False )['Amount'].sum().sort_values(by='Amount',ascending = False).head(10)\n",
    "sns.set(rc={'figure.)})figsize':(15,6\n",
    "sns.barplot(x = 'State',y = 'Amount', data =sales_state)"
   ]
  },
  {
   "cell_type": "markdown",
   "id": "d5abea06-4fd9-426f-9475-39b69b6f92ef",
   "metadata": {},
   "source": [
    "*#From above graphs we can see that the most of the orders are from Uttar Pradesh,Maharashtra,Karnatka respectively   but total sales/amount is from UP,Karnatka  and then Maharashtra*"
   ]
  },
  {
   "cell_type": "code",
   "execution_count": 45,
   "id": "7d5dff30-41a4-44f7-95b9-53568eb33747",
   "metadata": {},
   "outputs": [
    {
     "data": {
      "text/plain": [
       "Index(['User_ID', 'Cust_name', 'Product_ID', 'Gender', 'Age Group', 'Age',\n",
       "       'Marital_Status', 'State', 'Zone', 'Occupation', 'Product_Category',\n",
       "       'Orders', 'Amount'],\n",
       "      dtype='object')"
      ]
     },
     "execution_count": 45,
     "metadata": {},
     "output_type": "execute_result"
    }
   ],
   "source": [
    "df.columns"
   ]
  },
  {
   "cell_type": "code",
   "execution_count": 49,
   "id": "36cb233a-05f8-47fc-b0e3-6173822526b9",
   "metadata": {},
   "outputs": [
    {
     "data": {
      "image/png": "[encoded data removed]",
      "text/plain": [
       "<Figure size 700x400 with 1 Axes>"
      ]
     },
     "metadata": {},
     "output_type": "display_data"
    }
   ],
   "source": [
    "ax = sns.countplot(x = 'Marital_Status',data = df)\n",
    "sns.set(rc={'figure.figsize':(7,4)})\n",
    "for bars in ax.containers:\n",
    "    ax.bar_label(bars)"
   ]
  },
  {
   "cell_type": "code",
   "execution_count": 51,
   "id": "e5f43e86-10ae-44c2-a611-e65a7de91bb7",
   "metadata": {},
   "outputs": [
    {
     "data": {
      "text/plain": [
       "<Axes: xlabel='Marital_Status', ylabel='Amount'>"
      ]
     },
     "execution_count": 51,
     "metadata": {},
     "output_type": "execute_result"
    },
    {
     "data": {
      "image/png": "[encoded data removed]",
      "text/plain": [
       "<Figure size 800x600 with 1 Axes>"
      ]
     },
     "metadata": {},
     "output_type": "display_data"
    }
   ],
   "source": [
    "sales_state= df.groupby(['Marital_Status','Gender'],as_index= False,)['Amount'].sum ().sort_values(by='Amount',ascending = False)\n",
    "sns.set(rc={'figure.figsize':(8,6)})\n",
    "sns.barplot(x ='Marital_Status',y = 'Amount' , data = sales_state ,hue = 'Gender')"
   ]
  },
  {
   "cell_type": "code",
   "execution_count": null,
   "id": "a9facb0d-b3e3-4bd0-8700-80265f208fb9",
   "metadata": {},
   "outputs": [],
   "source": []
  }
 ],
 "metadata": {
  "kernelspec": {
   "display_name": "Python 3 (ipykernel)",
   "language": "python",
   "name": "python3"
  },
  "language_info": {
   "codemirror_mode": {
    "name": "ipython",
    "version": 3
   },
   "file_extension": ".py",
   "mimetype": "text/x-python",
   "name": "python",
   "nbconvert_exporter": "python",
   "pygments_lexer": "ipython3",
   "version": "3.12.5"
  }
 },
 "nbformat": 4,
 "nbformat_minor": 5
}
